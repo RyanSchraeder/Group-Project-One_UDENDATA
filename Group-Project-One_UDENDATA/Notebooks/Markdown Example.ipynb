{
 "cells": [
  {
   "cell_type": "markdown",
   "metadata": {},
   "source": [
    "# Large"
   ]
  },
  {
   "cell_type": "markdown",
   "metadata": {},
   "source": [
    "## Medium"
   ]
  },
  {
   "cell_type": "markdown",
   "metadata": {},
   "source": [
    "### Small"
   ]
  },
  {
   "cell_type": "markdown",
   "metadata": {},
   "source": [
    "# DU Data Viz - Project Proposal - Team Aurora Marvels"
   ]
  },
  {
   "cell_type": "markdown",
   "metadata": {},
   "source": [
    "## { Project Title }\n",
    "### {Project Description} - Two or three plain-English sentences describing the project and goals"
   ]
  },
  {
   "cell_type": "markdown",
   "metadata": {},
   "source": [
    " - Carrie Cook: carriecook82@gmail.com\n",
    " - Shirley Quintana: quintanashirl@gmail.com\n",
    " - Farai: showfara2011@gmail.com\n",
    " - Ryan: rschraeder2@gmail.com"
   ]
  },
  {
   "cell_type": "markdown",
   "metadata": {},
   "source": [
    "## Git Repo URL\n",
    "You can find our Git repo [here](https://github.com/RyanSchraeder/Group-Project-One_UDENDATA.git)"
   ]
  },
  {
   "cell_type": "markdown",
   "metadata": {},
   "source": [
    "## Research Question(s)\n",
    "{summarize your question(s). Include relevant inspiration (ie links to articles aka \"banking deserts\" from The Atlantic; recent regulations, etc.)"
   ]
  },
  {
   "cell_type": "markdown",
   "metadata": {},
   "source": [
    "## Data Set(s)\n",
    "{list your datasets, or describe them};\n",
    "\n",
    "Where possible, give links to the pages where the data was source\n",
    "\n",
    "- {dataset 1}\n",
    "- {dataset 2}"
   ]
  },
  {
   "cell_type": "markdown",
   "metadata": {},
   "source": [
    "## Task Planning\n",
    "\n",
    "{sketch a plan of the separate pieces of work that need to be done;\n",
    "for example:\n",
    "1. Get the data from data 1  *@Carrie*\n",
    "2. Analyze the data from data 1 **@Ryan**\n",
    "3. Get the data from data 2 _@James_\n",
    "4. Analyze the data from data 2 __@Farai__\n",
    "5. Merge the two datasets **@Shirley**\n",
    "6. Analyze the combined dataset\n",
    "\n",
    "or more \"universal tasks\":\n",
    "- prep the \"final polished presentation\" ipynb\n",
    "- ..."
   ]
  }
 ],
 "metadata": {
  "kernelspec": {
   "display_name": "Python 3",
   "language": "python",
   "name": "python3"
  },
  "language_info": {
   "codemirror_mode": {
    "name": "ipython",
    "version": 3
   },
   "file_extension": ".py",
   "mimetype": "text/x-python",
   "name": "python",
   "nbconvert_exporter": "python",
   "pygments_lexer": "ipython3",
   "version": "3.7.1"
  }
 },
 "nbformat": 4,
 "nbformat_minor": 2
}
