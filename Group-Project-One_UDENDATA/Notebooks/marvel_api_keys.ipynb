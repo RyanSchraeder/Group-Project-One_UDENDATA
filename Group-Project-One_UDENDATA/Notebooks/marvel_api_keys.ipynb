{
 "cells": [
  {
   "cell_type": "markdown",
   "metadata": {},
   "source": [
    "## Marvel Public API Key\n",
    "### 17584d1c69d30e066654f4c90d3da208\n",
    "\n",
    "## Marvel Private API Key\n",
    "### 0131870b87bf952e5b68c15363f016379ed38888\n",
    "\n",
    "## Domain for Calls\n",
    "### developer.marvel.com\n"
   ]
  },
  {
   "cell_type": "code",
   "execution_count": null,
   "metadata": {},
   "outputs": [],
   "source": []
  }
 ],
 "metadata": {
  "kernelspec": {
   "display_name": "Python 3",
   "language": "python",
   "name": "python3"
  },
  "language_info": {
   "codemirror_mode": {
    "name": "ipython",
    "version": 3
   },
   "file_extension": ".py",
   "mimetype": "text/x-python",
   "name": "python",
   "nbconvert_exporter": "python",
   "pygments_lexer": "ipython3",
   "version": "3.7.1"
  }
 },
 "nbformat": 4,
 "nbformat_minor": 2
}
