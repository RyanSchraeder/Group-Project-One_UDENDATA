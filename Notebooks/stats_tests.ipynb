{
 "cells": [
  {
   "cell_type": "code",
   "execution_count": 1,
   "metadata": {},
   "outputs": [],
   "source": [
    "#We have proceeded to use non-parametric tests because our data has very few observations\n",
    "\n",
    "\n",
    "\n",
    "## power and sales\n",
    "## power and ratings\n",
    "## gender and sales\n",
    "## gender and ratings\n",
    "## gender and power\n"
   ]
  },
  {
   "cell_type": "code",
   "execution_count": 116,
   "metadata": {},
   "outputs": [],
   "source": [
    "%matplotlib inline\n",
    "import pandas as pd\n",
    "import csv as csv\n",
    "from numpy import *\n",
    "from scipy import *\n",
    "from scipy.stats import spearmanr\n",
    "from scipy.stats import ttest_ind\n",
    "from scipy.stats import chi2_contingency\n",
    "from scipy.stats import mannwhitneyu\n",
    "from matplotlib import *\n",
    "import seaborn as sns"
   ]
  },
  {
   "cell_type": "code",
   "execution_count": 110,
   "metadata": {},
   "outputs": [
    {
     "data": {
      "text/html": [
       "<div>\n",
       "<style scoped>\n",
       "    .dataframe tbody tr th:only-of-type {\n",
       "        vertical-align: middle;\n",
       "    }\n",
       "\n",
       "    .dataframe tbody tr th {\n",
       "        vertical-align: top;\n",
       "    }\n",
       "\n",
       "    .dataframe thead th {\n",
       "        text-align: right;\n",
       "    }\n",
       "</style>\n",
       "<table border=\"1\" class=\"dataframe\">\n",
       "  <thead>\n",
       "    <tr style=\"text-align: right;\">\n",
       "      <th></th>\n",
       "      <th>Unnamed: 0</th>\n",
       "      <th>Date_Released</th>\n",
       "      <th>Publisher</th>\n",
       "      <th>Superhero_Name</th>\n",
       "      <th>Movie_Title</th>\n",
       "      <th>Rating</th>\n",
       "      <th>IMDB_Votes</th>\n",
       "      <th>Box_Office_Sales</th>\n",
       "      <th>Gender</th>\n",
       "      <th>Eye color</th>\n",
       "      <th>Race</th>\n",
       "      <th>Hair color</th>\n",
       "      <th>Height</th>\n",
       "      <th>Skin color</th>\n",
       "      <th>Alignment</th>\n",
       "      <th>Weight</th>\n",
       "      <th>rate</th>\n",
       "      <th>Inflation_Sales</th>\n",
       "    </tr>\n",
       "  </thead>\n",
       "  <tbody>\n",
       "    <tr>\n",
       "      <th>26</th>\n",
       "      <td>26</td>\n",
       "      <td>2018</td>\n",
       "      <td>Marvel</td>\n",
       "      <td>Ant-Man</td>\n",
       "      <td>Ant-Man and the Wasp</td>\n",
       "      <td>71</td>\n",
       "      <td>204,018</td>\n",
       "      <td>216648740</td>\n",
       "      <td>Male</td>\n",
       "      <td>blue</td>\n",
       "      <td>Human</td>\n",
       "      <td>Blond</td>\n",
       "      <td>211</td>\n",
       "      <td>-</td>\n",
       "      <td>good</td>\n",
       "      <td>122</td>\n",
       "      <td>0.7</td>\n",
       "      <td>218165281.2</td>\n",
       "    </tr>\n",
       "    <tr>\n",
       "      <th>27</th>\n",
       "      <td>27</td>\n",
       "      <td>2018</td>\n",
       "      <td>DC</td>\n",
       "      <td>Aquaman</td>\n",
       "      <td>Aquaman</td>\n",
       "      <td>72</td>\n",
       "      <td>208,461</td>\n",
       "      <td>335061807</td>\n",
       "      <td>Male</td>\n",
       "      <td>blue</td>\n",
       "      <td>Non-Human</td>\n",
       "      <td>Blond</td>\n",
       "      <td>185</td>\n",
       "      <td>-</td>\n",
       "      <td>good</td>\n",
       "      <td>146</td>\n",
       "      <td>0.7</td>\n",
       "      <td>337407239.6</td>\n",
       "    </tr>\n",
       "    <tr>\n",
       "      <th>28</th>\n",
       "      <td>28</td>\n",
       "      <td>2018</td>\n",
       "      <td>Marvel</td>\n",
       "      <td>Deadpool</td>\n",
       "      <td>Deadpool 2</td>\n",
       "      <td>78</td>\n",
       "      <td>359,880</td>\n",
       "      <td>324591735</td>\n",
       "      <td>Male</td>\n",
       "      <td>brown</td>\n",
       "      <td>Human</td>\n",
       "      <td>No Hair</td>\n",
       "      <td>188</td>\n",
       "      <td>-</td>\n",
       "      <td>neutral</td>\n",
       "      <td>95</td>\n",
       "      <td>0.7</td>\n",
       "      <td>326863877.1</td>\n",
       "    </tr>\n",
       "    <tr>\n",
       "      <th>29</th>\n",
       "      <td>29</td>\n",
       "      <td>2018</td>\n",
       "      <td>Marvel</td>\n",
       "      <td>Venom</td>\n",
       "      <td>Venom</td>\n",
       "      <td>68</td>\n",
       "      <td>245,745</td>\n",
       "      <td>213515506</td>\n",
       "      <td>Male</td>\n",
       "      <td>blue</td>\n",
       "      <td>Non-Human</td>\n",
       "      <td>Strawberry Blond</td>\n",
       "      <td>191</td>\n",
       "      <td>-</td>\n",
       "      <td>bad</td>\n",
       "      <td>117</td>\n",
       "      <td>0.7</td>\n",
       "      <td>215010114.5</td>\n",
       "    </tr>\n",
       "    <tr>\n",
       "      <th>30</th>\n",
       "      <td>30</td>\n",
       "      <td>2019</td>\n",
       "      <td>Marvel</td>\n",
       "      <td>Captain Marvel</td>\n",
       "      <td>Captain Marvel</td>\n",
       "      <td>69</td>\n",
       "      <td>80,858</td>\n",
       "      <td>373880366</td>\n",
       "      <td>Female</td>\n",
       "      <td>blue</td>\n",
       "      <td>Human</td>\n",
       "      <td>Blond</td>\n",
       "      <td>180</td>\n",
       "      <td>-</td>\n",
       "      <td>good</td>\n",
       "      <td>74</td>\n",
       "      <td>0.0</td>\n",
       "      <td>373880366.0</td>\n",
       "    </tr>\n",
       "  </tbody>\n",
       "</table>\n",
       "</div>"
      ],
      "text/plain": [
       "    Unnamed: 0  Date_Released Publisher  Superhero_Name           Movie_Title  \\\n",
       "26          26           2018    Marvel         Ant-Man  Ant-Man and the Wasp   \n",
       "27          27           2018        DC         Aquaman               Aquaman   \n",
       "28          28           2018    Marvel        Deadpool            Deadpool 2   \n",
       "29          29           2018    Marvel           Venom                 Venom   \n",
       "30          30           2019    Marvel  Captain Marvel        Captain Marvel   \n",
       "\n",
       "    Rating IMDB_Votes  Box_Office_Sales  Gender Eye color       Race  \\\n",
       "26      71    204,018         216648740    Male      blue      Human   \n",
       "27      72    208,461         335061807    Male      blue  Non-Human   \n",
       "28      78    359,880         324591735    Male     brown      Human   \n",
       "29      68    245,745         213515506    Male      blue  Non-Human   \n",
       "30      69     80,858         373880366  Female      blue      Human   \n",
       "\n",
       "          Hair color  Height Skin color Alignment  Weight  rate  \\\n",
       "26             Blond     211          -      good     122   0.7   \n",
       "27             Blond     185          -      good     146   0.7   \n",
       "28           No Hair     188          -   neutral      95   0.7   \n",
       "29  Strawberry Blond     191          -       bad     117   0.7   \n",
       "30             Blond     180          -      good      74   0.0   \n",
       "\n",
       "    Inflation_Sales  \n",
       "26      218165281.2  \n",
       "27      337407239.6  \n",
       "28      326863877.1  \n",
       "29      215010114.5  \n",
       "30      373880366.0  "
      ]
     },
     "execution_count": 110,
     "metadata": {},
     "output_type": "execute_result"
    }
   ],
   "source": [
    "mergedSuperheroes = pd.read_csv(\"../Datasets/Production_data/Merged_Superhero.csv\")\n",
    "mergedSuperheroes.tail()"
   ]
  },
  {
   "cell_type": "code",
   "execution_count": 97,
   "metadata": {},
   "outputs": [],
   "source": [
    "#mergedSuperheroes.plot.scatter(\"Weight\",\"Rating\")"
   ]
  },
  {
   "cell_type": "code",
   "execution_count": 25,
   "metadata": {},
   "outputs": [],
   "source": [
    "#sns.lmplot(x=\"Weight\",y=\"Rating\",data=mergedSuperheroes,fit_reg=True)"
   ]
  },
  {
   "cell_type": "code",
   "execution_count": 60,
   "metadata": {},
   "outputs": [
    {
     "data": {
      "text/plain": [
       "<seaborn.axisgrid.PairGrid at 0x1ce8e8fc208>"
      ]
     },
     "execution_count": 60,
     "metadata": {},
     "output_type": "execute_result"
    },
    {
     "data": {
      "image/png": "[encoded data removed]",
      "text/plain": [
       "<Figure size 540x540 with 12 Axes>"
      ]
     },
     "metadata": {
      "needs_background": "light"
     },
     "output_type": "display_data"
    }
   ],
   "source": [
    "mergedSuperheroesComp=mergedSuperheroes[[\"Rating\",\"Gender\",\"Race\",\"Weight\",\"Inflation_Sales\"]]\n",
    "\n",
    "sns.pairplot(mergedSuperheroesComp)"
   ]
  },
  {
   "cell_type": "code",
   "execution_count": 61,
   "metadata": {},
   "outputs": [
    {
     "name": "stdout",
     "output_type": "stream",
     "text": [
      "rho =0.007 and pvalue=0.9693\n"
     ]
    }
   ],
   "source": [
    "rate=mergedSuperheroes[\"Rating\"]\n",
    "weight=mergedSuperheroes[\"Weight\"]\n",
    "inflation_sales=mergedSuperheroes[\"Inflation_Sales\"]\n",
    "spearmanr_coefficient, p_values=spearmanr(weight,rate)\n",
    "print(\"rho =%0.3f and pvalue=%0.4f\" %(spearmanr_coefficient,p_values))"
   ]
  },
  {
   "cell_type": "code",
   "execution_count": 62,
   "metadata": {},
   "outputs": [
    {
     "name": "stdout",
     "output_type": "stream",
     "text": [
      "rho =-0.155 and pvalue=0.4051\n"
     ]
    }
   ],
   "source": [
    "spearmanr_coefficient, p_values=spearmanr(weight,inflation_sales)\n",
    "print(\"rho =%0.3f and pvalue=%0.4f\" %(spearmanr_coefficient,p_values))"
   ]
  },
  {
   "cell_type": "code",
   "execution_count": 66,
   "metadata": {},
   "outputs": [
    {
     "name": "stdout",
     "output_type": "stream",
     "text": [
      "rho =0.708 and pvalue=0.0000\n"
     ]
    }
   ],
   "source": [
    "spearmanr_coefficient, p_values=spearmanr(rate,inflation_sales)\n",
    "print(\"rho =%0.3f and pvalue=%0.4f\" %(spearmanr_coefficient,p_values))"
   ]
  },
  {
   "cell_type": "code",
   "execution_count": 64,
   "metadata": {},
   "outputs": [
    {
     "name": "stdout",
     "output_type": "stream",
     "text": [
      "Test statistic =226.558 and pvalue=0.3844\n"
     ]
    }
   ],
   "source": [
    "df=pd.crosstab(rate,weight)\n",
    "chi2,p,dof,expected=chi2_contingency(df.values)\n",
    "print(\"Test statistic =%0.3f and pvalue=%0.4f\" %(chi2,p))"
   ]
  },
  {
   "cell_type": "code",
   "execution_count": 71,
   "metadata": {},
   "outputs": [
    {
     "name": "stdout",
     "output_type": "stream",
     "text": [
      "Test statistic =527.000 and pvalue=0.2921\n"
     ]
    }
   ],
   "source": [
    "ab=pd.crosstab(rate,inflation_sales)\n",
    "chi2,p,dof,expected=chi2_contingency(ab.values)\n",
    "print(\"Test statistic =%0.3f and pvalue=%0.4f\" %(chi2,p))\n"
   ]
  },
  {
   "cell_type": "code",
   "execution_count": 70,
   "metadata": {},
   "outputs": [
    {
     "name": "stdout",
     "output_type": "stream",
     "text": [
      "Test statistic =0.044 and pvalue=0.8345\n"
     ]
    },
    {
     "data": {
      "text/html": [
       "<div>\n",
       "<style scoped>\n",
       "    .dataframe tbody tr th:only-of-type {\n",
       "        vertical-align: middle;\n",
       "    }\n",
       "\n",
       "    .dataframe tbody tr th {\n",
       "        vertical-align: top;\n",
       "    }\n",
       "\n",
       "    .dataframe thead th {\n",
       "        text-align: right;\n",
       "    }\n",
       "</style>\n",
       "<table border=\"1\" class=\"dataframe\">\n",
       "  <thead>\n",
       "    <tr style=\"text-align: right;\">\n",
       "      <th>Race</th>\n",
       "      <th>Human</th>\n",
       "      <th>Non-Human</th>\n",
       "    </tr>\n",
       "    <tr>\n",
       "      <th>Gender</th>\n",
       "      <th></th>\n",
       "      <th></th>\n",
       "    </tr>\n",
       "  </thead>\n",
       "  <tbody>\n",
       "    <tr>\n",
       "      <th>Female</th>\n",
       "      <td>2</td>\n",
       "      <td>0</td>\n",
       "    </tr>\n",
       "    <tr>\n",
       "      <th>Male</th>\n",
       "      <td>23</td>\n",
       "      <td>6</td>\n",
       "    </tr>\n",
       "  </tbody>\n",
       "</table>\n",
       "</div>"
      ],
      "text/plain": [
       "Race    Human  Non-Human\n",
       "Gender                  \n",
       "Female      2          0\n",
       "Male       23          6"
      ]
     },
     "execution_count": 70,
     "metadata": {},
     "output_type": "execute_result"
    }
   ],
   "source": [
    "cd=pd.crosstab(mergedSuperheroes[\"Gender\"],mergedSuperheroes[\"Race\"])\n",
    "chi2,p,dof,expected=chi2_contingency(cd.values)\n",
    "print(\"Test statistic =%0.3f and pvalue=%0.4f\" %(chi2,p))\n",
    "cd"
   ]
  },
  {
   "cell_type": "code",
   "execution_count": 83,
   "metadata": {},
   "outputs": [],
   "source": [
    "GenderGroup=mergedSuperheroes.groupby(\"Gender\")"
   ]
  },
  {
   "cell_type": "code",
   "execution_count": 107,
   "metadata": {},
   "outputs": [
    {
     "name": "stdout",
     "output_type": "stream",
     "text": [
      "Test statistic =31.000 and pvalue=0.4154\n"
     ]
    }
   ],
   "source": [
    "#MaleSales=GenderGroup.()[\"Inflation_Sales\"]\n",
    "#FemaleSales=GenderGroup.[\"\"]\n",
    "#MaleSales\n",
    "farai=pd.crosstab(mergedSuperheroes[\"Gender\"],mergedSuperheroes[\"Inflation_Sales\"])\n",
    "chi2,p,dof,expected=chi2_contingency(farai.values)\n",
    "print(\"Test statistic =%0.3f and pvalue=%0.4f\" %(chi2,p))"
   ]
  },
  {
   "cell_type": "code",
   "execution_count": 115,
   "metadata": {},
   "outputs": [
    {
     "data": {
      "text/plain": [
       "Ttest_indResult(statistic=1.305723280218138, pvalue=0.20191042394525344)"
      ]
     },
     "execution_count": 115,
     "metadata": {},
     "output_type": "execute_result"
    }
   ],
   "source": [
    "Females = mergedSuperheroes[mergedSuperheroes[\"Gender\"]==\"Female\"]\n",
    "Males = mergedSuperheroes[mergedSuperheroes[\"Gender\"]==\"Male\"]\n",
    "\n",
    "ttest_ind(Females[\"Inflation_Sales\"],Males[\"Inflation_Sales\"])"
   ]
  }
 ],
 "metadata": {
  "kernelspec": {
   "display_name": "Python 3",
   "language": "python",
   "name": "python3"
  },
  "language_info": {
   "codemirror_mode": {
    "name": "ipython",
    "version": 3
   },
   "file_extension": ".py",
   "mimetype": "text/x-python",
   "name": "python",
   "nbconvert_exporter": "python",
   "pygments_lexer": "ipython3",
   "version": "3.7.1"
  }
 },
 "nbformat": 4,
 "nbformat_minor": 2
}
