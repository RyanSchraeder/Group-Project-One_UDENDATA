{
 "cells": [
  {
   "cell_type": "markdown",
   "metadata": {},
   "source": [
    "# DU Data Viz - Project Proposal - Team Aurora Marvels"
   ]
  },
  {
   "cell_type": "markdown",
   "metadata": {},
   "source": [
    "## Correlation Between Superhero Traits vs. Box Office Sales and ratings\n",
    "### Do certain superhero attributes translate into higher (lower) box office sales rating in the United States? Do certain superhero attributes translate into higher (lower) box office sales in the international market?"
   ]
  },
  {
   "cell_type": "markdown",
   "metadata": {},
   "source": [
    " - Carrie Cook: carriecook82@gmail.com\n",
    " - Shirley Quintana: quintanashirl@gmail.com\n",
    " - Farai Chinanayi: showfara2011@gmail.com\n",
    " - Ryan Schraeder: rschraeder2@gmail.com\n",
    " - James Lee: jamesbradfordlee@gmail.com"
   ]
  },
  {
   "cell_type": "markdown",
   "metadata": {},
   "source": [
    "## Git Repo URL\n",
    "You can find our Git repo [here](https://github.com/RyanSchraeder/Group-Project-One_UDENDATA.git)"
   ]
  },
  {
   "cell_type": "markdown",
   "metadata": {},
   "source": [
    "## Research Question(s)\n",
    "Do certain superhero attributes i.e., power(s), race (human vs. non-human), gender, etc. lead to higher (lower) box office sales in US?; International?\n",
    "\n",
    "- https://www.houstonchronicle.com/local/gray-matters/article/black-panther-racial-and-ethnic-socialization-12741221.php\n",
    "- https://mashable.com/article/captain-marvel-feminism-female-superhero/#rl4Cmu74Kgq5\n",
    "- https://comicsverse.com/why-superhero-movies-need-more-diversity/\n"
   ]
  },
  {
   "cell_type": "markdown",
   "metadata": {},
   "source": [
    "## Data Set(s)\n",
    "\n",
    "- Datasets [here](https://github.com/RyanSchraeder/Group-Project-One_UDENDATA/tree/master/Datasets)\n",
    "    - Movie list csv file was manually pulled from [here](https://www.kaggle.com/claudiodavi/superhero-set) and [here](https://www.superherodb.com/)\n",
    "    - Sales US and rating from OMDB API: [here](http://www.omdbapi.com) \n",
    "    - Superhero attributes:[here](https://www.kaggle.com/claudiodavi/superhero-set) \n",
    "    - Internation Sales:[here](https://www.the-numbers.com/movie)\n",
    "- raw source urls :\n",
    "    - https://marvelcinematicuniverse.fandom.com/wiki/Marvel_Cinematic_Universe_Wiki\n",
    "    - https://www.imdb.com/list/ls038977111/"
   ]
  },
  {
   "cell_type": "markdown",
   "metadata": {},
   "source": [
    "## Task Planning\n",
    "\n",
    "1. Ryan - Obtain superheroes and their movies\n",
    "2. Farai - Assign attributes to superheros\n",
    "3. Shirley - Gather movie ratings and sales\n",
    "4. Carrie - Combine above datasets and gather geodata\n",
    "5. James - Get geodata for US movie says and analyze combined dataset\n",
    "6. Group - Draw conclusions\n",
    "7. Group - Prep final presentation"
   ]
  },
  {
   "cell_type": "markdown",
   "metadata": {},
   "source": [
    "## Plots\n",
    " - Bar: Movie vs sales us\n",
    " - Bar: Movie vs rating (rotten tomatoes)\n",
    " - Pie: movies male vs female\n",
    " - Pie: movies human vs non-human\n",
    " - Pie: movies superhero allignment (good vs bad)\n",
    " - gmap: Country sales top male movie\n",
    " - gmap: Country sales top male movie\n",
    " - Scatter: Sales vs power\n",
    " - Scatter: Rating vs power\n",
    " "
   ]
  },
  {
   "cell_type": "code",
   "execution_count": null,
   "metadata": {},
   "outputs": [],
   "source": []
  }
 ],
 "metadata": {
  "kernelspec": {
   "display_name": "Python 3",
   "language": "python",
   "name": "python3"
  },
  "language_info": {
   "codemirror_mode": {
    "name": "ipython",
    "version": 3
   },
   "file_extension": ".py",
   "mimetype": "text/x-python",
   "name": "python",
   "nbconvert_exporter": "python",
   "pygments_lexer": "ipython3",
   "version": "3.7.1"
  }
 },
 "nbformat": 4,
 "nbformat_minor": 2
}
