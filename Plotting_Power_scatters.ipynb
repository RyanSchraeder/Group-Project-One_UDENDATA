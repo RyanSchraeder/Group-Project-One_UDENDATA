{
 "cells": [
  {
   "cell_type": "code",
   "execution_count": 11,
   "metadata": {},
   "outputs": [
    {
     "data": {
      "text/html": [
       "<div>\n",
       "<style scoped>\n",
       "    .dataframe tbody tr th:only-of-type {\n",
       "        vertical-align: middle;\n",
       "    }\n",
       "\n",
       "    .dataframe tbody tr th {\n",
       "        vertical-align: top;\n",
       "    }\n",
       "\n",
       "    .dataframe thead th {\n",
       "        text-align: right;\n",
       "    }\n",
       "</style>\n",
       "<table border=\"1\" class=\"dataframe\">\n",
       "  <thead>\n",
       "    <tr style=\"text-align: right;\">\n",
       "      <th></th>\n",
       "      <th>Unnamed: 0</th>\n",
       "      <th>Date_Released</th>\n",
       "      <th>Publisher</th>\n",
       "      <th>Superhero_Name</th>\n",
       "      <th>Movie_Title</th>\n",
       "      <th>Rating</th>\n",
       "      <th>IMDB_Votes</th>\n",
       "      <th>Box_Office_Sales</th>\n",
       "      <th>Gender</th>\n",
       "      <th>Eye color</th>\n",
       "      <th>Race</th>\n",
       "      <th>Hair color</th>\n",
       "      <th>Height</th>\n",
       "      <th>Skin color</th>\n",
       "      <th>Alignment</th>\n",
       "      <th>Weight</th>\n",
       "      <th>rate</th>\n",
       "      <th>Inflation_Sales</th>\n",
       "    </tr>\n",
       "  </thead>\n",
       "  <tbody>\n",
       "    <tr>\n",
       "      <th>0</th>\n",
       "      <td>0</td>\n",
       "      <td>2008</td>\n",
       "      <td>DC</td>\n",
       "      <td>Batman</td>\n",
       "      <td>The Dark Knight</td>\n",
       "      <td>90.0</td>\n",
       "      <td>2,029,721</td>\n",
       "      <td>533316061</td>\n",
       "      <td>Male</td>\n",
       "      <td>blue</td>\n",
       "      <td>Human</td>\n",
       "      <td>black</td>\n",
       "      <td>188</td>\n",
       "      <td>-</td>\n",
       "      <td>good</td>\n",
       "      <td>95</td>\n",
       "      <td>17.4</td>\n",
       "      <td>6.261131e+08</td>\n",
       "    </tr>\n",
       "    <tr>\n",
       "      <th>1</th>\n",
       "      <td>1</td>\n",
       "      <td>2008</td>\n",
       "      <td>DC</td>\n",
       "      <td>Punisher</td>\n",
       "      <td>Punisher: War Zone</td>\n",
       "      <td>60.0</td>\n",
       "      <td>56,730</td>\n",
       "      <td>7948159</td>\n",
       "      <td>Male</td>\n",
       "      <td>blue</td>\n",
       "      <td>Human</td>\n",
       "      <td>Black</td>\n",
       "      <td>183</td>\n",
       "      <td>-</td>\n",
       "      <td>good</td>\n",
       "      <td>90</td>\n",
       "      <td>17.4</td>\n",
       "      <td>9.331139e+06</td>\n",
       "    </tr>\n",
       "    <tr>\n",
       "      <th>2</th>\n",
       "      <td>2</td>\n",
       "      <td>2008</td>\n",
       "      <td>Marvel</td>\n",
       "      <td>Iron Man</td>\n",
       "      <td>Iron Man</td>\n",
       "      <td>79.0</td>\n",
       "      <td>842,429</td>\n",
       "      <td>318298180</td>\n",
       "      <td>Male</td>\n",
       "      <td>blue</td>\n",
       "      <td>Human</td>\n",
       "      <td>Black</td>\n",
       "      <td>198</td>\n",
       "      <td>-</td>\n",
       "      <td>good</td>\n",
       "      <td>191</td>\n",
       "      <td>17.4</td>\n",
       "      <td>3.736821e+08</td>\n",
       "    </tr>\n",
       "    <tr>\n",
       "      <th>3</th>\n",
       "      <td>3</td>\n",
       "      <td>2008</td>\n",
       "      <td>Marvel</td>\n",
       "      <td>Hulk</td>\n",
       "      <td>The Incredible Hulk</td>\n",
       "      <td>68.0</td>\n",
       "      <td>388,957</td>\n",
       "      <td>134518390</td>\n",
       "      <td>Male</td>\n",
       "      <td>green</td>\n",
       "      <td>Human / Radiation</td>\n",
       "      <td>Green</td>\n",
       "      <td>244</td>\n",
       "      <td>green</td>\n",
       "      <td>good</td>\n",
       "      <td>630</td>\n",
       "      <td>17.4</td>\n",
       "      <td>1.579246e+08</td>\n",
       "    </tr>\n",
       "    <tr>\n",
       "      <th>4</th>\n",
       "      <td>4</td>\n",
       "      <td>2009</td>\n",
       "      <td>Marvel</td>\n",
       "      <td>Wolverine</td>\n",
       "      <td>X-Men Origins: Wolverine</td>\n",
       "      <td>66.0</td>\n",
       "      <td>431,892</td>\n",
       "      <td>179737340</td>\n",
       "      <td>Male</td>\n",
       "      <td>blue</td>\n",
       "      <td>Mutant</td>\n",
       "      <td>Black</td>\n",
       "      <td>160</td>\n",
       "      <td>-</td>\n",
       "      <td>good</td>\n",
       "      <td>135</td>\n",
       "      <td>17.8</td>\n",
       "      <td>2.117306e+08</td>\n",
       "    </tr>\n",
       "  </tbody>\n",
       "</table>\n",
       "</div>"
      ],
      "text/plain": [
       "   Unnamed: 0  Date_Released Publisher Superhero_Name  \\\n",
       "0           0           2008        DC         Batman   \n",
       "1           1           2008        DC       Punisher   \n",
       "2           2           2008    Marvel       Iron Man   \n",
       "3           3           2008    Marvel           Hulk   \n",
       "4           4           2009    Marvel      Wolverine   \n",
       "\n",
       "                Movie_Title  Rating IMDB_Votes  Box_Office_Sales Gender  \\\n",
       "0           The Dark Knight    90.0  2,029,721         533316061   Male   \n",
       "1        Punisher: War Zone    60.0     56,730           7948159   Male   \n",
       "2                  Iron Man    79.0    842,429         318298180   Male   \n",
       "3       The Incredible Hulk    68.0    388,957         134518390   Male   \n",
       "4  X-Men Origins: Wolverine    66.0    431,892         179737340   Male   \n",
       "\n",
       "  Eye color               Race Hair color  Height Skin color Alignment  \\\n",
       "0      blue              Human      black     188          -      good   \n",
       "1      blue              Human      Black     183          -      good   \n",
       "2      blue              Human      Black     198          -      good   \n",
       "3     green  Human / Radiation      Green     244      green      good   \n",
       "4      blue             Mutant      Black     160          -      good   \n",
       "\n",
       "   Weight  rate  Inflation_Sales  \n",
       "0      95  17.4     6.261131e+08  \n",
       "1      90  17.4     9.331139e+06  \n",
       "2     191  17.4     3.736821e+08  \n",
       "3     630  17.4     1.579246e+08  \n",
       "4     135  17.8     2.117306e+08  "
      ]
     },
     "execution_count": 11,
     "metadata": {},
     "output_type": "execute_result"
    }
   ],
   "source": [
    "import pandas as pd\n",
    "import matplotlib.pyplot as plt\n",
    "\n",
    "Merged_df = pd.read_csv('./Datasets/Production_data/Merged_Superhero.csv')\n",
    "Merged_df.head()"
   ]
  },
  {
   "cell_type": "code",
   "execution_count": 7,
   "metadata": {},
   "outputs": [
    {
     "data": {
      "text/plain": [
       "<matplotlib.collections.PathCollection at 0x22efe21ec88>"
      ]
     },
     "execution_count": 7,
     "metadata": {},
     "output_type": "execute_result"
    },
    {
     "data": {
      "image/png": "[encoded data removed]",
      "text/plain": [
       "<Figure size 432x288 with 1 Axes>"
      ]
     },
     "metadata": {
      "needs_background": "light"
     },
     "output_type": "display_data"
    }
   ],
   "source": [
    "plt.scatter(Merged_df['Weight'],Merged_df['Inflation_Sales'])"
   ]
  },
  {
   "cell_type": "code",
   "execution_count": 8,
   "metadata": {},
   "outputs": [
    {
     "data": {
      "text/plain": [
       "<matplotlib.collections.PathCollection at 0x22efe27bda0>"
      ]
     },
     "execution_count": 8,
     "metadata": {},
     "output_type": "execute_result"
    },
    {
     "data": {
      "image/png": "[encoded data removed]",
      "text/plain": [
       "<Figure size 432x288 with 1 Axes>"
      ]
     },
     "metadata": {
      "needs_background": "light"
     },
     "output_type": "display_data"
    }
   ],
   "source": [
    "plt.scatter(Merged_df['Weight'],Merged_df['Rating'])"
   ]
  },
  {
   "cell_type": "code",
   "execution_count": 9,
   "metadata": {},
   "outputs": [
    {
     "data": {
      "text/plain": [
       "<BarContainer object of 31 artists>"
      ]
     },
     "execution_count": 9,
     "metadata": {},
     "output_type": "execute_result"
    },
    {
     "data": {
      "image/png": "[encoded data removed]",
      "text/plain": [
       "<Figure size 432x288 with 1 Axes>"
      ]
     },
     "metadata": {
      "needs_background": "light"
     },
     "output_type": "display_data"
    }
   ],
   "source": [
    "plt.bar(Merged_df['Movie_Title'], Merged_df['Weight'])"
   ]
  },
  {
   "cell_type": "code",
   "execution_count": null,
   "metadata": {},
   "outputs": [],
   "source": []
  }
 ],
 "metadata": {
  "kernelspec": {
   "display_name": "Python 3",
   "language": "python",
   "name": "python3"
  },
  "language_info": {
   "codemirror_mode": {
    "name": "ipython",
    "version": 3
   },
   "file_extension": ".py",
   "mimetype": "text/x-python",
   "name": "python",
   "nbconvert_exporter": "python",
   "pygments_lexer": "ipython3",
   "version": "3.7.1"
  }
 },
 "nbformat": 4,
 "nbformat_minor": 2
}
